{
 "cells": [
  {
   "cell_type": "code",
   "execution_count": 1,
   "metadata": {},
   "outputs": [
    {
     "name": "stderr",
     "output_type": "stream",
     "text": [
      "/Users/sulab/Documents/pending.api/.venv/lib/python3.8/site-packages/urllib3/__init__.py:34: NotOpenSSLWarning: urllib3 v2.0 only supports OpenSSL 1.1.1+, currently the 'ssl' module is compiled with 'LibreSSL 2.8.3'. See: https://github.com/urllib3/urllib3/issues/3020\n",
      "  warnings.warn(\n"
     ]
    }
   ],
   "source": [
    "import requests\n",
    "import json\n",
    "from math import ceil\n",
    "from tqdm import tqdm\n",
    "\n",
    "import time"
   ]
  },
  {
   "cell_type": "code",
   "execution_count": 2,
   "metadata": {},
   "outputs": [],
   "source": [
    "size = requests.get(\"https://clinicaltrials.gov/api/v2/stats/size\")\n",
    "total_studies = json.loads(size.content)['totalStudies']"
   ]
  },
  {
   "cell_type": "code",
   "execution_count": 4,
   "metadata": {},
   "outputs": [
    {
     "name": "stderr",
     "output_type": "stream",
     "text": [
      "  0%|          | 0/472 [00:00<?, ?it/s]"
     ]
    },
    {
     "name": "stderr",
     "output_type": "stream",
     "text": [
      "100%|█████████▉| 471/472 [24:37<00:03,  3.14s/it]  \n"
     ]
    }
   ],
   "source": [
    "aggregated_studies = []\n",
    "nextPage = None\n",
    "\n",
    "request_delay = 1 / 3  #  <= 3 Requests per second\n",
    "\n",
    "for _ in tqdm(range(ceil(total_studies/1000))):\n",
    "    try:\n",
    "        payload = {'format': 'json', 'pageSize': '1000', 'pageToken' : f'{nextPage}'} if nextPage else {'format': 'json', 'pageSize': '1000'}\n",
    "        data = requests.get(\"https://clinicaltrials.gov/api/v2/studies\", params=payload)\n",
    "        studies = json.loads(data.content)\n",
    "\n",
    "        aggregated_studies.extend(studies['studies'])\n",
    "\n",
    "        # The last page does not have a nextPageToken field\n",
    "        if 'nextPageToken' not in studies:\n",
    "            break\n",
    "\n",
    "        nextPage = studies['nextPageToken']\n",
    "\n",
    "        time.sleep(request_delay)\n",
    "    except:\n",
    "        print('Page Token:', nextPage)\n",
    "        print('Payload:', payload)\n",
    "        print('# Aggregated Studies:', len(aggregated_studies))"
   ]
  },
  {
   "cell_type": "code",
   "execution_count": 31,
   "metadata": {},
   "outputs": [
    {
     "name": "stdout",
     "output_type": "stream",
     "text": [
      "Expected Studies: 471791\n",
      "Gathered Studies: 471791\n"
     ]
    }
   ],
   "source": [
    "print('Expected Studies:', total_studies)\n",
    "print('Gathered Studies:', len(aggregated_studies))"
   ]
  },
  {
   "cell_type": "code",
   "execution_count": 32,
   "metadata": {},
   "outputs": [
    {
     "name": "stdout",
     "output_type": "stream",
     "text": [
      "Data Time Stamp: 2023-11-02\n"
     ]
    }
   ],
   "source": [
    "version = requests.get(\"https://clinicaltrials.gov/api/v2/version\").json()\n",
    "print('Data Time Stamp:', version['dataTimestamp'].split('T')[0])"
   ]
  }
 ],
 "metadata": {
  "kernelspec": {
   "display_name": ".venv",
   "language": "python",
   "name": "python3"
  },
  "language_info": {
   "codemirror_mode": {
    "name": "ipython",
    "version": 3
   },
   "file_extension": ".py",
   "mimetype": "text/x-python",
   "name": "python",
   "nbconvert_exporter": "python",
   "pygments_lexer": "ipython3",
   "version": "3.8.9"
  }
 },
 "nbformat": 4,
 "nbformat_minor": 2
}
